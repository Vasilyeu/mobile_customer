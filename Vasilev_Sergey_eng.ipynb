{
 "cells": [
  {
   "cell_type": "markdown",
   "metadata": {},
   "source": [
    "### Forecasting the outflow of clients of the mobile operator"
   ]
  },
  {
   "cell_type": "markdown",
   "metadata": {},
   "source": [
    "#### Vasilyeu Siarhei, vasiluev@tut.by, +375 29 7731272"
   ]
  },
  {
   "cell_type": "markdown",
   "metadata": {},
   "source": [
    "### 1. Import libraries and load data"
   ]
  },
  {
   "cell_type": "code",
   "execution_count": 3,
   "metadata": {},
   "outputs": [],
   "source": [
    "import pandas as pd\n",
    "import numpy as np\n",
    "import matplotlib.pyplot as plt"
   ]
  },
  {
   "cell_type": "code",
   "execution_count": 6,
   "metadata": {},
   "outputs": [],
   "source": [
    "from sklearn.preprocessing import LabelEncoder\n",
    "from sklearn.preprocessing import OneHotEncoder\n",
    "from sklearn.preprocessing import StandardScaler\n",
    "from sklearn.cross_validation import train_test_split\n",
    "from sklearn.linear_model import LogisticRegression\n",
    "from sklearn.ensemble import RandomForestClassifier\n",
    "from sklearn.ensemble import VotingClassifier\n",
    "from sklearn.linear_model import SGDClassifier\n",
    "from sklearn.metrics import roc_curve\n",
    "from sklearn.cross_validation import cross_val_score\n",
    "from sklearn.metrics import auc\n",
    "from sklearn.ensemble import ExtraTreesClassifier"
   ]
  },
  {
   "cell_type": "code",
   "execution_count": 5,
   "metadata": {
    "collapsed": true
   },
   "outputs": [],
   "source": [
    "pd.set_option('display.max_columns', 500)\n",
    "pd.set_option('display.width', 1000)\n",
    "pd.set_option('display.max_rows', 100)\n",
    "\n",
    "import warnings\n",
    "warnings.simplefilter('ignore')\n",
    "\n",
    "from pylab import rcParams\n",
    "rcParams['figure.figsize'] = 12, 8"
   ]
  },
  {
   "cell_type": "code",
   "execution_count": 7,
   "metadata": {
    "collapsed": true
   },
   "outputs": [],
   "source": [
    "train = pd.read_csv(\"train.csv\", sep=';')\n",
    "test = pd.read_csv(\"test.csv\", sep=';')"
   ]
  },
  {
   "cell_type": "code",
   "execution_count": 8,
   "metadata": {},
   "outputs": [
    {
     "data": {
      "text/html": [
       "<div>\n",
       "<table border=\"1\" class=\"dataframe\">\n",
       "  <thead>\n",
       "    <tr style=\"text-align: right;\">\n",
       "      <th></th>\n",
       "      <th>USER_ID</th>\n",
       "      <th>ACT_DATE</th>\n",
       "      <th>STATUS</th>\n",
       "      <th>TP_CURRENT</th>\n",
       "      <th>TP_CHANGES_NUM</th>\n",
       "      <th>START_PACK</th>\n",
       "      <th>OFFER_GROUP</th>\n",
       "      <th>BIRTHDAY</th>\n",
       "      <th>GENDER</th>\n",
       "      <th>MLLS_STATE</th>\n",
       "      <th>PORTED_IN</th>\n",
       "      <th>PORTED_OUT</th>\n",
       "      <th>OBLIG_NUM</th>\n",
       "      <th>OBLIG_ON_START</th>\n",
       "      <th>ASSET_TYPE_LAST</th>\n",
       "      <th>DEVICE_TYPE_BUS</th>\n",
       "      <th>USAGE_AREA</th>\n",
       "      <th>REFILL_OCT_16</th>\n",
       "      <th>REFILL_NOV_16</th>\n",
       "      <th>OUTGOING_OCT_16</th>\n",
       "      <th>OUTGOING_NOV_16</th>\n",
       "      <th>GPRS_OCT_16</th>\n",
       "      <th>GPRS_NOV_16</th>\n",
       "      <th>REVENUE_OCT_16</th>\n",
       "      <th>REVENUE_NOV_16</th>\n",
       "      <th>ACTIVITY_DEC_16</th>\n",
       "    </tr>\n",
       "  </thead>\n",
       "  <tbody>\n",
       "    <tr>\n",
       "      <th>0</th>\n",
       "      <td>6925431</td>\n",
       "      <td>2012-06-21</td>\n",
       "      <td>D</td>\n",
       "      <td>TP_STATE</td>\n",
       "      <td>0.0</td>\n",
       "      <td>NaN</td>\n",
       "      <td>NaN</td>\n",
       "      <td>1988-04-12</td>\n",
       "      <td>M</td>\n",
       "      <td>NaN</td>\n",
       "      <td>False</td>\n",
       "      <td>False</td>\n",
       "      <td>NaN</td>\n",
       "      <td>False</td>\n",
       "      <td>NaN</td>\n",
       "      <td>Undefined</td>\n",
       "      <td>NaN</td>\n",
       "      <td>0.0</td>\n",
       "      <td>0.0</td>\n",
       "      <td>0.000000</td>\n",
       "      <td>0.000000</td>\n",
       "      <td>0.0</td>\n",
       "      <td>0.0</td>\n",
       "      <td>0.000000</td>\n",
       "      <td>0.00</td>\n",
       "      <td>0</td>\n",
       "    </tr>\n",
       "    <tr>\n",
       "      <th>1</th>\n",
       "      <td>8027797</td>\n",
       "      <td>2013-11-05</td>\n",
       "      <td>D</td>\n",
       "      <td>TP_DL012</td>\n",
       "      <td>20.0</td>\n",
       "      <td>Commercial</td>\n",
       "      <td>Standard</td>\n",
       "      <td>1984-01-02</td>\n",
       "      <td>M</td>\n",
       "      <td>Active</td>\n",
       "      <td>False</td>\n",
       "      <td>False</td>\n",
       "      <td>NaN</td>\n",
       "      <td>False</td>\n",
       "      <td>NaN</td>\n",
       "      <td>Smartphone</td>\n",
       "      <td>Minsk</td>\n",
       "      <td>150000.0</td>\n",
       "      <td>90000.0</td>\n",
       "      <td>337.433333</td>\n",
       "      <td>821.266667</td>\n",
       "      <td>2319.0</td>\n",
       "      <td>2896.0</td>\n",
       "      <td>14.171355</td>\n",
       "      <td>9.75</td>\n",
       "      <td>1</td>\n",
       "    </tr>\n",
       "    <tr>\n",
       "      <th>2</th>\n",
       "      <td>23498773</td>\n",
       "      <td>2015-07-17</td>\n",
       "      <td>D</td>\n",
       "      <td>TP_L</td>\n",
       "      <td>0.0</td>\n",
       "      <td>Commercial</td>\n",
       "      <td>Promo</td>\n",
       "      <td>1996-09-09</td>\n",
       "      <td>M</td>\n",
       "      <td>Active</td>\n",
       "      <td>False</td>\n",
       "      <td>False</td>\n",
       "      <td>NaN</td>\n",
       "      <td>False</td>\n",
       "      <td>NaN</td>\n",
       "      <td>Smartphone</td>\n",
       "      <td>Minsk</td>\n",
       "      <td>180000.0</td>\n",
       "      <td>100000.0</td>\n",
       "      <td>396.033333</td>\n",
       "      <td>145.466667</td>\n",
       "      <td>80369.0</td>\n",
       "      <td>15803.0</td>\n",
       "      <td>16.170000</td>\n",
       "      <td>10.74</td>\n",
       "      <td>1</td>\n",
       "    </tr>\n",
       "    <tr>\n",
       "      <th>3</th>\n",
       "      <td>7039091</td>\n",
       "      <td>2012-08-02</td>\n",
       "      <td>D</td>\n",
       "      <td>TP_DL012</td>\n",
       "      <td>1.0</td>\n",
       "      <td>Commercial</td>\n",
       "      <td>Standard</td>\n",
       "      <td>NaN</td>\n",
       "      <td>M</td>\n",
       "      <td>NaN</td>\n",
       "      <td>False</td>\n",
       "      <td>False</td>\n",
       "      <td>NaN</td>\n",
       "      <td>False</td>\n",
       "      <td>NaN</td>\n",
       "      <td>Smartphone</td>\n",
       "      <td>Regional Cities</td>\n",
       "      <td>100000.0</td>\n",
       "      <td>80000.0</td>\n",
       "      <td>234.900000</td>\n",
       "      <td>306.283333</td>\n",
       "      <td>1155.0</td>\n",
       "      <td>1695.0</td>\n",
       "      <td>8.780000</td>\n",
       "      <td>9.42</td>\n",
       "      <td>1</td>\n",
       "    </tr>\n",
       "    <tr>\n",
       "      <th>4</th>\n",
       "      <td>7510978</td>\n",
       "      <td>2013-03-06</td>\n",
       "      <td>D</td>\n",
       "      <td>TP_ANDR</td>\n",
       "      <td>0.0</td>\n",
       "      <td>NaN</td>\n",
       "      <td>NaN</td>\n",
       "      <td>1991-03-16</td>\n",
       "      <td>F</td>\n",
       "      <td>Active</td>\n",
       "      <td>False</td>\n",
       "      <td>False</td>\n",
       "      <td>NaN</td>\n",
       "      <td>False</td>\n",
       "      <td>Smartphone</td>\n",
       "      <td>Undefined</td>\n",
       "      <td>NaN</td>\n",
       "      <td>0.0</td>\n",
       "      <td>0.0</td>\n",
       "      <td>0.000000</td>\n",
       "      <td>0.000000</td>\n",
       "      <td>0.0</td>\n",
       "      <td>0.0</td>\n",
       "      <td>0.000000</td>\n",
       "      <td>0.00</td>\n",
       "      <td>0</td>\n",
       "    </tr>\n",
       "  </tbody>\n",
       "</table>\n",
       "</div>"
      ],
      "text/plain": [
       "    USER_ID    ACT_DATE STATUS TP_CURRENT  TP_CHANGES_NUM  START_PACK OFFER_GROUP    BIRTHDAY GENDER MLLS_STATE PORTED_IN PORTED_OUT  OBLIG_NUM OBLIG_ON_START ASSET_TYPE_LAST DEVICE_TYPE_BUS       USAGE_AREA  REFILL_OCT_16  REFILL_NOV_16  OUTGOING_OCT_16  OUTGOING_NOV_16  GPRS_OCT_16  GPRS_NOV_16  REVENUE_OCT_16  REVENUE_NOV_16  ACTIVITY_DEC_16\n",
       "0   6925431  2012-06-21      D   TP_STATE             0.0         NaN         NaN  1988-04-12      M        NaN     False      False        NaN          False             NaN       Undefined              NaN            0.0            0.0         0.000000         0.000000          0.0          0.0        0.000000            0.00                0\n",
       "1   8027797  2013-11-05      D   TP_DL012            20.0  Commercial    Standard  1984-01-02      M     Active     False      False        NaN          False             NaN      Smartphone            Minsk       150000.0        90000.0       337.433333       821.266667       2319.0       2896.0       14.171355            9.75                1\n",
       "2  23498773  2015-07-17      D       TP_L             0.0  Commercial       Promo  1996-09-09      M     Active     False      False        NaN          False             NaN      Smartphone            Minsk       180000.0       100000.0       396.033333       145.466667      80369.0      15803.0       16.170000           10.74                1\n",
       "3   7039091  2012-08-02      D   TP_DL012             1.0  Commercial    Standard         NaN      M        NaN     False      False        NaN          False             NaN      Smartphone  Regional Cities       100000.0        80000.0       234.900000       306.283333       1155.0       1695.0        8.780000            9.42                1\n",
       "4   7510978  2013-03-06      D    TP_ANDR             0.0         NaN         NaN  1991-03-16      F     Active     False      False        NaN          False      Smartphone       Undefined              NaN            0.0            0.0         0.000000         0.000000          0.0          0.0        0.000000            0.00                0"
      ]
     },
     "execution_count": 8,
     "metadata": {},
     "output_type": "execute_result"
    }
   ],
   "source": [
    "# Verify the correctness of the load\n",
    "train.head()"
   ]
  },
  {
   "cell_type": "code",
   "execution_count": 9,
   "metadata": {},
   "outputs": [
    {
     "data": {
      "text/html": [
       "<div>\n",
       "<table border=\"1\" class=\"dataframe\">\n",
       "  <thead>\n",
       "    <tr style=\"text-align: right;\">\n",
       "      <th></th>\n",
       "      <th>USER_ID</th>\n",
       "      <th>ACT_DATE</th>\n",
       "      <th>STATUS</th>\n",
       "      <th>TP_CURRENT</th>\n",
       "      <th>TP_CHANGES_NUM</th>\n",
       "      <th>START_PACK</th>\n",
       "      <th>OFFER_GROUP</th>\n",
       "      <th>BIRTHDAY</th>\n",
       "      <th>GENDER</th>\n",
       "      <th>MLLS_STATE</th>\n",
       "      <th>PORTED_IN</th>\n",
       "      <th>PORTED_OUT</th>\n",
       "      <th>OBLIG_NUM</th>\n",
       "      <th>OBLIG_ON_START</th>\n",
       "      <th>ASSET_TYPE_LAST</th>\n",
       "      <th>DEVICE_TYPE_BUS</th>\n",
       "      <th>USAGE_AREA</th>\n",
       "      <th>REFILL_OCT_16</th>\n",
       "      <th>REFILL_NOV_16</th>\n",
       "      <th>OUTGOING_OCT_16</th>\n",
       "      <th>OUTGOING_NOV_16</th>\n",
       "      <th>GPRS_OCT_16</th>\n",
       "      <th>GPRS_NOV_16</th>\n",
       "      <th>REVENUE_OCT_16</th>\n",
       "      <th>REVENUE_NOV_16</th>\n",
       "    </tr>\n",
       "  </thead>\n",
       "  <tbody>\n",
       "    <tr>\n",
       "      <th>0</th>\n",
       "      <td>24588883</td>\n",
       "      <td>2016-04-19</td>\n",
       "      <td>Q</td>\n",
       "      <td>TP_3GM</td>\n",
       "      <td>0.0</td>\n",
       "      <td>Commercial</td>\n",
       "      <td>Promo</td>\n",
       "      <td>1983-08-26</td>\n",
       "      <td>M</td>\n",
       "      <td>NaN</td>\n",
       "      <td>False</td>\n",
       "      <td>False</td>\n",
       "      <td>NaN</td>\n",
       "      <td>False</td>\n",
       "      <td>NaN</td>\n",
       "      <td>Modem/Router</td>\n",
       "      <td>Regional Cities</td>\n",
       "      <td>0.0</td>\n",
       "      <td>0.0</td>\n",
       "      <td>0.000000</td>\n",
       "      <td>0.000000</td>\n",
       "      <td>0.0</td>\n",
       "      <td>0.0</td>\n",
       "      <td>0.000</td>\n",
       "      <td>0.000</td>\n",
       "    </tr>\n",
       "    <tr>\n",
       "      <th>1</th>\n",
       "      <td>22709104</td>\n",
       "      <td>2014-11-22</td>\n",
       "      <td>D</td>\n",
       "      <td>TP_XS</td>\n",
       "      <td>0.0</td>\n",
       "      <td>Commercial</td>\n",
       "      <td>Standard</td>\n",
       "      <td>1981-03-19</td>\n",
       "      <td>F</td>\n",
       "      <td>NaN</td>\n",
       "      <td>False</td>\n",
       "      <td>False</td>\n",
       "      <td>NaN</td>\n",
       "      <td>False</td>\n",
       "      <td>NaN</td>\n",
       "      <td>Other</td>\n",
       "      <td>Local Towns</td>\n",
       "      <td>0.0</td>\n",
       "      <td>0.0</td>\n",
       "      <td>0.000000</td>\n",
       "      <td>0.000000</td>\n",
       "      <td>0.0</td>\n",
       "      <td>0.0</td>\n",
       "      <td>0.000</td>\n",
       "      <td>0.000</td>\n",
       "    </tr>\n",
       "    <tr>\n",
       "      <th>2</th>\n",
       "      <td>608546</td>\n",
       "      <td>2009-04-02</td>\n",
       "      <td>D</td>\n",
       "      <td>TP_FREE</td>\n",
       "      <td>0.0</td>\n",
       "      <td>NaN</td>\n",
       "      <td>NaN</td>\n",
       "      <td>NaN</td>\n",
       "      <td>F</td>\n",
       "      <td>NaN</td>\n",
       "      <td>False</td>\n",
       "      <td>False</td>\n",
       "      <td>NaN</td>\n",
       "      <td>False</td>\n",
       "      <td>NaN</td>\n",
       "      <td>Smartphone</td>\n",
       "      <td>Countryside</td>\n",
       "      <td>150000.0</td>\n",
       "      <td>0.0</td>\n",
       "      <td>59.483333</td>\n",
       "      <td>46.850000</td>\n",
       "      <td>8.0</td>\n",
       "      <td>3.0</td>\n",
       "      <td>8.055</td>\n",
       "      <td>5.855</td>\n",
       "    </tr>\n",
       "    <tr>\n",
       "      <th>3</th>\n",
       "      <td>6309892</td>\n",
       "      <td>2011-12-15</td>\n",
       "      <td>D</td>\n",
       "      <td>TP_ANDR</td>\n",
       "      <td>0.0</td>\n",
       "      <td>NaN</td>\n",
       "      <td>NaN</td>\n",
       "      <td>1984-11-28</td>\n",
       "      <td>M</td>\n",
       "      <td>NaN</td>\n",
       "      <td>False</td>\n",
       "      <td>False</td>\n",
       "      <td>NaN</td>\n",
       "      <td>False</td>\n",
       "      <td>Smartphone</td>\n",
       "      <td>Undefined</td>\n",
       "      <td>NaN</td>\n",
       "      <td>NaN</td>\n",
       "      <td>NaN</td>\n",
       "      <td>0.000000</td>\n",
       "      <td>0.000000</td>\n",
       "      <td>0.0</td>\n",
       "      <td>0.0</td>\n",
       "      <td>0.000</td>\n",
       "      <td>0.000</td>\n",
       "    </tr>\n",
       "    <tr>\n",
       "      <th>4</th>\n",
       "      <td>7556468</td>\n",
       "      <td>2013-06-17</td>\n",
       "      <td>D</td>\n",
       "      <td>TP_DL012</td>\n",
       "      <td>0.0</td>\n",
       "      <td>Commercial</td>\n",
       "      <td>Standard</td>\n",
       "      <td>1992-08-31</td>\n",
       "      <td>F</td>\n",
       "      <td>NaN</td>\n",
       "      <td>False</td>\n",
       "      <td>False</td>\n",
       "      <td>NaN</td>\n",
       "      <td>False</td>\n",
       "      <td>NaN</td>\n",
       "      <td>Smartphone</td>\n",
       "      <td>Minsk</td>\n",
       "      <td>60000.0</td>\n",
       "      <td>90000.0</td>\n",
       "      <td>260.200000</td>\n",
       "      <td>266.066667</td>\n",
       "      <td>4205.0</td>\n",
       "      <td>4727.0</td>\n",
       "      <td>9.810</td>\n",
       "      <td>9.370</td>\n",
       "    </tr>\n",
       "  </tbody>\n",
       "</table>\n",
       "</div>"
      ],
      "text/plain": [
       "    USER_ID    ACT_DATE STATUS TP_CURRENT  TP_CHANGES_NUM  START_PACK OFFER_GROUP    BIRTHDAY GENDER MLLS_STATE PORTED_IN PORTED_OUT  OBLIG_NUM OBLIG_ON_START ASSET_TYPE_LAST DEVICE_TYPE_BUS       USAGE_AREA  REFILL_OCT_16  REFILL_NOV_16  OUTGOING_OCT_16  OUTGOING_NOV_16  GPRS_OCT_16  GPRS_NOV_16  REVENUE_OCT_16  REVENUE_NOV_16\n",
       "0  24588883  2016-04-19      Q     TP_3GM             0.0  Commercial       Promo  1983-08-26      M        NaN     False      False        NaN          False             NaN    Modem/Router  Regional Cities            0.0            0.0         0.000000         0.000000          0.0          0.0           0.000           0.000\n",
       "1  22709104  2014-11-22      D      TP_XS             0.0  Commercial    Standard  1981-03-19      F        NaN     False      False        NaN          False             NaN           Other      Local Towns            0.0            0.0         0.000000         0.000000          0.0          0.0           0.000           0.000\n",
       "2    608546  2009-04-02      D    TP_FREE             0.0         NaN         NaN         NaN      F        NaN     False      False        NaN          False             NaN      Smartphone      Countryside       150000.0            0.0        59.483333        46.850000          8.0          3.0           8.055           5.855\n",
       "3   6309892  2011-12-15      D    TP_ANDR             0.0         NaN         NaN  1984-11-28      M        NaN     False      False        NaN          False      Smartphone       Undefined              NaN            NaN            NaN         0.000000         0.000000          0.0          0.0           0.000           0.000\n",
       "4   7556468  2013-06-17      D   TP_DL012             0.0  Commercial    Standard  1992-08-31      F        NaN     False      False        NaN          False             NaN      Smartphone            Minsk        60000.0        90000.0       260.200000       266.066667       4205.0       4727.0           9.810           9.370"
      ]
     },
     "execution_count": 9,
     "metadata": {},
     "output_type": "execute_result"
    }
   ],
   "source": [
    "test.head()"
   ]
  },
  {
   "cell_type": "markdown",
   "metadata": {},
   "source": [
    "### 2. Explore the data and process the missing values"
   ]
  },
  {
   "cell_type": "code",
   "execution_count": 10,
   "metadata": {},
   "outputs": [
    {
     "name": "stdout",
     "output_type": "stream",
     "text": [
      "<class 'pandas.core.frame.DataFrame'>\n",
      "RangeIndex: 29208 entries, 0 to 29207\n",
      "Data columns (total 26 columns):\n",
      "USER_ID            29208 non-null int64\n",
      "ACT_DATE           29208 non-null object\n",
      "STATUS             29208 non-null object\n",
      "TP_CURRENT         29208 non-null object\n",
      "TP_CHANGES_NUM     29208 non-null float64\n",
      "START_PACK         23796 non-null object\n",
      "OFFER_GROUP        23796 non-null object\n",
      "BIRTHDAY           25278 non-null object\n",
      "GENDER             28600 non-null object\n",
      "MLLS_STATE         4789 non-null object\n",
      "PORTED_IN          29208 non-null bool\n",
      "PORTED_OUT         29208 non-null bool\n",
      "OBLIG_NUM          5061 non-null float64\n",
      "OBLIG_ON_START     29208 non-null bool\n",
      "ASSET_TYPE_LAST    9281 non-null object\n",
      "DEVICE_TYPE_BUS    29208 non-null object\n",
      "USAGE_AREA         23067 non-null object\n",
      "REFILL_OCT_16      26155 non-null float64\n",
      "REFILL_NOV_16      26155 non-null float64\n",
      "OUTGOING_OCT_16    26842 non-null float64\n",
      "OUTGOING_NOV_16    26842 non-null float64\n",
      "GPRS_OCT_16        26842 non-null float64\n",
      "GPRS_NOV_16        26842 non-null float64\n",
      "REVENUE_OCT_16     28530 non-null float64\n",
      "REVENUE_NOV_16     28530 non-null float64\n",
      "ACTIVITY_DEC_16    29208 non-null int64\n",
      "dtypes: bool(3), float64(10), int64(2), object(11)\n",
      "memory usage: 5.2+ MB\n"
     ]
    }
   ],
   "source": [
    "train.info()"
   ]
  },
  {
   "cell_type": "code",
   "execution_count": 11,
   "metadata": {},
   "outputs": [
    {
     "name": "stdout",
     "output_type": "stream",
     "text": [
      "<class 'pandas.core.frame.DataFrame'>\n",
      "RangeIndex: 20000 entries, 0 to 19999\n",
      "Data columns (total 25 columns):\n",
      "USER_ID            20000 non-null int64\n",
      "ACT_DATE           20000 non-null object\n",
      "STATUS             20000 non-null object\n",
      "TP_CURRENT         20000 non-null object\n",
      "TP_CHANGES_NUM     20000 non-null float64\n",
      "START_PACK         16249 non-null object\n",
      "OFFER_GROUP        16249 non-null object\n",
      "BIRTHDAY           17232 non-null object\n",
      "GENDER             19541 non-null object\n",
      "MLLS_STATE         3182 non-null object\n",
      "PORTED_IN          20000 non-null bool\n",
      "PORTED_OUT         20000 non-null bool\n",
      "OBLIG_NUM          3484 non-null float64\n",
      "OBLIG_ON_START     20000 non-null bool\n",
      "ASSET_TYPE_LAST    6289 non-null object\n",
      "DEVICE_TYPE_BUS    20000 non-null object\n",
      "USAGE_AREA         15792 non-null object\n",
      "REFILL_OCT_16      17890 non-null float64\n",
      "REFILL_NOV_16      17890 non-null float64\n",
      "OUTGOING_OCT_16    18428 non-null float64\n",
      "OUTGOING_NOV_16    18428 non-null float64\n",
      "GPRS_OCT_16        18428 non-null float64\n",
      "GPRS_NOV_16        18428 non-null float64\n",
      "REVENUE_OCT_16     19560 non-null float64\n",
      "REVENUE_NOV_16     19560 non-null float64\n",
      "dtypes: bool(3), float64(10), int64(1), object(11)\n",
      "memory usage: 3.4+ MB\n"
     ]
    }
   ],
   "source": [
    "test.info()"
   ]
  },
  {
   "cell_type": "code",
   "execution_count": 12,
   "metadata": {
    "collapsed": true
   },
   "outputs": [],
   "source": [
    "# Define the function to fill the missing values\n",
    "def replace_nan(data):\n",
    "    # в столбцах 'START_PACK' и 'OFFER_GROUP' заменим NaN на 'Unknown'\n",
    "    data['START_PACK'] = data['START_PACK'].fillna('Unknown')\n",
    "    data['OFFER_GROUP'] = data['OFFER_GROUP'].fillna('Unknown')\n",
    "    \n",
    "    # столбцы с датами приведем к формату datetime\n",
    "    data['ACT_DATE'] = pd.to_datetime(data['ACT_DATE'], format='%Y-%m-%d', errors='ignore')\n",
    "    data['BIRTHDAY'] = pd.to_datetime(data['BIRTHDAY'], format='%Y-%m-%d', errors='ignore')\n",
    "    \n",
    "    # в столбце GENDER заменим NaN на M, так как 16034 из 28600 записей имеют значение M\n",
    "    data['GENDER'] = data['GENDER'].fillna('M')\n",
    "    \n",
    "    # по условию задачи, NaN в столбце 'MLLS_STATE' означает что абонент не является участником программы лояльности\n",
    "    data['MLLS_STATE'] = data['MLLS_STATE'].fillna('No')\n",
    "    \n",
    "    # по условиям задачи NaN в столбце 'OBLIG_NUM' означает, что абонент не пользовался рассрочкой\n",
    "    data['OBLIG_NUM'] = data['OBLIG_NUM'].fillna(0.0)\n",
    "    \n",
    "    # NaN в столбце 'ASSET_TYPE_LAST' вероятно означает, что абонент не приобретал оборудование в компании\n",
    "    data['ASSET_TYPE_LAST'] = data['ASSET_TYPE_LAST'].fillna('Not buying')\n",
    "    \n",
    "    # в столбце 'USAGE_AREA' заменим NaN на 'Undefined'\n",
    "    data['USAGE_AREA'] = data['USAGE_AREA'].fillna('Undefined')\n",
    "    \n",
    "    # в остальных столбцах заменим NaN  на 0.0, считая что отсутствие данных означает отсутствие активности\n",
    "    data['REFILL_OCT_16'] = data['REFILL_OCT_16'].fillna(0.0)\n",
    "    data['REFILL_NOV_16'] = data['REFILL_NOV_16'].fillna(0.0)\n",
    "    data['OUTGOING_OCT_16'] = data['OUTGOING_OCT_16'].fillna(0.0)\n",
    "    data['OUTGOING_NOV_16'] = data['OUTGOING_NOV_16'].fillna(0.0)\n",
    "    data['GPRS_OCT_16'] = data['GPRS_OCT_16'].fillna(0.0)\n",
    "    data['GPRS_NOV_16'] = data['GPRS_NOV_16'].fillna(0.0)\n",
    "    data['REVENUE_OCT_16'] = data['REVENUE_OCT_16'].fillna(0.0)\n",
    "    data['REVENUE_NOV_16'] = data['REVENUE_NOV_16'].fillna(0.0)"
   ]
  },
  {
   "cell_type": "code",
   "execution_count": 13,
   "metadata": {
    "collapsed": true
   },
   "outputs": [],
   "source": [
    "# переведем BYR  в BYN\n",
    "def byr_to_byn(data):\n",
    "    data['REFILL_OCT_16'] = data['REFILL_OCT_16']/10000.0\n",
    "    data['REFILL_NOV_16'] = data['REFILL_NOV_16']/10000.0"
   ]
  },
  {
   "cell_type": "code",
   "execution_count": 14,
   "metadata": {},
   "outputs": [],
   "source": [
    "# Create several new features\n",
    "def new_features(data):\n",
    "    \n",
    "    # срок с даты подключения до 1 декабря 2016 в днях\n",
    "    data['AGE_ACT'] = [int(i.days) for i in (pd.datetime(2016, 12, 1) - data['ACT_DATE'])]\n",
    "    \n",
    "    # день недели, в который состоялось подключение\n",
    "    data['WEEKDAY'] = data['ACT_DATE'].dt.dayofweek\n",
    "    \n",
    "    # добавим год рождения абонента и заменим пропущенные данные средним\n",
    "    data['BIRTH_YEAR'] = pd.DatetimeIndex(data['BIRTHDAY']).year\n",
    "    data['BIRTH_YEAR'] = data['BIRTH_YEAR'].fillna(data['BIRTH_YEAR'].mean())\n",
    "        \n",
    "    # добавим столбец с возрастом абонента на момент подключения\n",
    "    data['AGE_AB'] = pd.DatetimeIndex(data['ACT_DATE']).year - data['BIRTH_YEAR']\n",
    "    \n",
    "    # добавим столбцы с разностями показателей ноября и октября\n",
    "    data['REFIL_DELTA'] = data['REFILL_NOV_16'] - data['REFILL_OCT_16']\n",
    "    data['OUTGOING_DELTA'] = data['OUTGOING_NOV_16'] - data['OUTGOING_OCT_16']\n",
    "    data['GPRS_DELTA'] = data['GPRS_NOV_16'] - data['GPRS_OCT_16']\n",
    "    data['REVENUE_DELTA'] = data['REVENUE_NOV_16'] - data['REVENUE_OCT_16']\n",
    "    \n",
    "    # удалим столбецы 'BIRTHDAY' и 'ACT_DATE'\n",
    "    del data['BIRTHDAY']\n",
    "    del data['ACT_DATE']"
   ]
  },
  {
   "cell_type": "code",
   "execution_count": 15,
   "metadata": {
    "collapsed": true
   },
   "outputs": [],
   "source": [
    "# переведем BYR в BYN\n",
    "byr_to_byn(train)\n",
    "byr_to_byn(test)"
   ]
  },
  {
   "cell_type": "code",
   "execution_count": 16,
   "metadata": {},
   "outputs": [],
   "source": [
    "# Process the training data\n",
    "replace_nan(train)\n",
    "new_features(train)"
   ]
  },
  {
   "cell_type": "code",
   "execution_count": 17,
   "metadata": {
    "collapsed": true
   },
   "outputs": [],
   "source": [
    "# Process the test data\n",
    "replace_nan(test)\n",
    "new_features(test)"
   ]
  },
  {
   "cell_type": "code",
   "execution_count": 18,
   "metadata": {},
   "outputs": [
    {
     "name": "stdout",
     "output_type": "stream",
     "text": [
      "<class 'pandas.core.frame.DataFrame'>\n",
      "RangeIndex: 29208 entries, 0 to 29207\n",
      "Data columns (total 32 columns):\n",
      "USER_ID            29208 non-null int64\n",
      "STATUS             29208 non-null object\n",
      "TP_CURRENT         29208 non-null object\n",
      "TP_CHANGES_NUM     29208 non-null float64\n",
      "START_PACK         29208 non-null object\n",
      "OFFER_GROUP        29208 non-null object\n",
      "GENDER             29208 non-null object\n",
      "MLLS_STATE         29208 non-null object\n",
      "PORTED_IN          29208 non-null bool\n",
      "PORTED_OUT         29208 non-null bool\n",
      "OBLIG_NUM          29208 non-null float64\n",
      "OBLIG_ON_START     29208 non-null bool\n",
      "ASSET_TYPE_LAST    29208 non-null object\n",
      "DEVICE_TYPE_BUS    29208 non-null object\n",
      "USAGE_AREA         29208 non-null object\n",
      "REFILL_OCT_16      29208 non-null float64\n",
      "REFILL_NOV_16      29208 non-null float64\n",
      "OUTGOING_OCT_16    29208 non-null float64\n",
      "OUTGOING_NOV_16    29208 non-null float64\n",
      "GPRS_OCT_16        29208 non-null float64\n",
      "GPRS_NOV_16        29208 non-null float64\n",
      "REVENUE_OCT_16     29208 non-null float64\n",
      "REVENUE_NOV_16     29208 non-null float64\n",
      "ACTIVITY_DEC_16    29208 non-null int64\n",
      "AGE_ACT            29208 non-null int64\n",
      "WEEKDAY            29208 non-null int64\n",
      "BIRTH_YEAR         29208 non-null float64\n",
      "AGE_AB             29208 non-null float64\n",
      "REFIL_DELTA        29208 non-null float64\n",
      "OUTGOING_DELTA     29208 non-null float64\n",
      "GPRS_DELTA         29208 non-null float64\n",
      "REVENUE_DELTA      29208 non-null float64\n",
      "dtypes: bool(3), float64(16), int64(4), object(9)\n",
      "memory usage: 6.5+ MB\n"
     ]
    }
   ],
   "source": [
    "train.info()"
   ]
  },
  {
   "cell_type": "markdown",
   "metadata": {},
   "source": [
    "Now we have test and train data sets without missing data and with a few new features"
   ]
  },
  {
   "cell_type": "markdown",
   "metadata": {},
   "source": [
    "### 3. Preparing data for machine learning"
   ]
  },
  {
   "cell_type": "code",
   "execution_count": 19,
   "metadata": {},
   "outputs": [],
   "source": [
    "# Conversion of categorical data\n",
    "le = LabelEncoder()\n",
    "for n in ['STATUS', 'TP_CURRENT', 'START_PACK', 'OFFER_GROUP', 'GENDER', 'MLLS_STATE', \n",
    "         'PORTED_IN', 'PORTED_OUT', 'OBLIG_ON_START', 'ASSET_TYPE_LAST', 'DEVICE_TYPE_BUS', 'USAGE_AREA']:\n",
    "    le.fit(train[n])\n",
    "    train[n] = le.transform(train[n])\n",
    "    test[n] = le.transform(test[n])"
   ]
  },
  {
   "cell_type": "code",
   "execution_count": 20,
   "metadata": {},
   "outputs": [],
   "source": [
    "# Standardization of data\n",
    "features = list(train.columns)\n",
    "del features[0]\n",
    "del features[22]\n",
    "scaler = StandardScaler()\n",
    "for n in features:\n",
    "    scaler.fit(train[n])\n",
    "    train[n] = scaler.transform(train[n])\n",
    "    test[n] = scaler.transform(test[n])"
   ]
  },
  {
   "cell_type": "code",
   "execution_count": 21,
   "metadata": {},
   "outputs": [],
   "source": [
    "# Break train into training and test set\n",
    "X_train, X_test, y_train, y_test = train_test_split(train[features], \n",
    "                                                    train.ACTIVITY_DEC_16, \n",
    "                                                    test_size=0.20, \n",
    "                                                    random_state=123)"
   ]
  },
  {
   "cell_type": "markdown",
   "metadata": {},
   "source": [
    "### 4. Built the first model to all features"
   ]
  },
  {
   "cell_type": "code",
   "execution_count": 82,
   "metadata": {
    "collapsed": true
   },
   "outputs": [],
   "source": [
    "# Ensemble of classifiers by Weighted Average Probabilities\n",
    "clf1 = LogisticRegression(random_state=42)\n",
    "clf2 = RandomForestClassifier(random_state=42)\n",
    "clf3 = SGDClassifier(loss='log', random_state=42)\n",
    "\n",
    "eclf = VotingClassifier(estimators=[('lr', clf1), ('rf', clf2), ('sgd', clf3)], voting='soft', weights=[1,1,1])"
   ]
  },
  {
   "cell_type": "code",
   "execution_count": 83,
   "metadata": {},
   "outputs": [
    {
     "name": "stdout",
     "output_type": "stream",
     "text": [
      "ROC AUC: 0.950789 (+/- 0.003721) [Logistic Regression]\n",
      "ROC AUC: 0.965873 (+/- 0.002750) [Random Forest]\n",
      "ROC AUC: 0.942739 (+/- 0.003452) [SGD]\n",
      "ROC AUC: 0.967651 (+/- 0.002257) [Ensemble]\n"
     ]
    }
   ],
   "source": [
    "# Quality control of the model by cross-validation with calculation of ROC AUC\n",
    "for clf, label in zip([clf1, clf2, clf3, eclf], \n",
    "                      ['Logistic Regression', 'Random Forest', 'SGD', 'Ensemble']):\n",
    "    scores2 = cross_val_score(estimator=clf, X=X_train, y=y_train, cv=10, scoring='roc_auc')\n",
    "    print(\"ROC AUC: %0.6f (+/- %0.6f) [%s]\" % (scores2.mean(), scores2.std(), label))"
   ]
  },
  {
   "cell_type": "markdown",
   "metadata": {},
   "source": [
    "On the training data, the best result is provided by an ensemble of three algorithms"
   ]
  },
  {
   "cell_type": "markdown",
   "metadata": {},
   "source": [
    "### 5. Determine the importance of attributes using the Random Forest"
   ]
  },
  {
   "cell_type": "code",
   "execution_count": 46,
   "metadata": {},
   "outputs": [
    {
     "name": "stdout",
     "output_type": "stream",
     "text": [
      "Feature ranking:\n",
      "1. STATUS (0.216260)\n",
      "2. USAGE_AREA (0.132873)\n",
      "3. DEVICE_TYPE_BUS (0.124227)\n",
      "4. REVENUE_NOV_16 (0.056666)\n",
      "5. AGE_ACT (0.037424)\n",
      "6. OUTGOING_NOV_16 (0.037003)\n",
      "7. REVENUE_OCT_16 (0.035002)\n",
      "8. REFILL_NOV_16 (0.034487)\n",
      "9. TP_CURRENT (0.028480)\n",
      "10. REFILL_OCT_16 (0.027266)\n",
      "11. OUTGOING_OCT_16 (0.026455)\n",
      "12. AGE_AB (0.022518)\n",
      "13. BIRTH_YEAR (0.022161)\n",
      "14. REVENUE_DELTA (0.021722)\n",
      "15. GPRS_NOV_16 (0.021616)\n",
      "16. WEEKDAY (0.019760)\n",
      "17. OUTGOING_DELTA (0.018844)\n",
      "18. REFIL_DELTA (0.015466)\n",
      "19. GPRS_OCT_16 (0.014200)\n",
      "20. GPRS_DELTA (0.013153)\n",
      "21. ASSET_TYPE_LAST (0.011533)\n",
      "22. START_PACK (0.011499)\n",
      "23. OFFER_GROUP (0.010530)\n",
      "24. MLLS_STATE (0.009586)\n",
      "25. GENDER (0.008435)\n",
      "26. TP_CHANGES_NUM (0.007186)\n",
      "27. PORTED_IN (0.006455)\n",
      "28. OBLIG_ON_START (0.005277)\n",
      "29. OBLIG_NUM (0.003913)\n",
      "30. PORTED_OUT (0.000000)\n"
     ]
    },
    {
     "data": {
      "image/png": "[encoded data removed]",
      "text/plain": [
       "<matplotlib.figure.Figure at 0x1bdb2150160>"
      ]
     },
     "metadata": {},
     "output_type": "display_data"
    }
   ],
   "source": [
    "# Построим лес и подсчитаем важность признаков\n",
    "forest = ExtraTreesClassifier(n_estimators=250,\n",
    "                              random_state=0)\n",
    "\n",
    "forest.fit(X_train, y_train)\n",
    "importances = forest.feature_importances_\n",
    "std = np.std([tree.feature_importances_ for tree in forest.estimators_],\n",
    "             axis=0)\n",
    "indices = np.argsort(importances)[::-1]\n",
    "\n",
    "# Выведем ранг признаков по важности\n",
    "print(\"Feature ranking:\")\n",
    "\n",
    "for f in range(X_train.shape[1]):\n",
    "    print(\"%d. %s (%f)\" % (f + 1, list(X_train.columns)[indices[f]], importances[indices[f]]))\n",
    "\n",
    "# Сделаем график важности признаков\n",
    "plt.figure()\n",
    "plt.title(\"Feature importances\")\n",
    "plt.bar(range(X_train.shape[1]), importances[indices],\n",
    "       color=\"r\", yerr=std[indices], align=\"center\")\n",
    "plt.xticks(range(X_train.shape[1]), indices)\n",
    "plt.xlim([-1, X_train.shape[1]])\n",
    "plt.show()"
   ]
  },
  {
   "cell_type": "markdown",
   "metadata": {},
   "source": [
    "As we can see, the most important features are STATUS, USAGE_AREA, DEVICE_TYPE_BUS и REVENUE_NOV_16\n"
   ]
  },
  {
   "cell_type": "markdown",
   "metadata": {},
   "source": [
    "### 6. Select the features for classification"
   ]
  },
  {
   "cell_type": "code",
   "execution_count": 22,
   "metadata": {
    "collapsed": true
   },
   "outputs": [],
   "source": [
    "# Create a list of features sorted by importance\n",
    "imp_features = []\n",
    "for i in indices:\n",
    "    imp_features.append(features[i])"
   ]
  },
  {
   "cell_type": "code",
   "execution_count": 23,
   "metadata": {},
   "outputs": [
    {
     "name": "stdout",
     "output_type": "stream",
     "text": [
      "ROC AUC: 0.949997 (+/- 0.002544) [Logistic Regression]\n",
      "ROC AUC: 0.964623 (+/- 0.001751) [Random Forest]\n",
      "ROC AUC: 0.947075 (+/- 0.003729) [SGD]\n",
      "ROC AUC: 0.967774 (+/- 0.001967) [Ensemble]\n"
     ]
    }
   ],
   "source": [
    "# the best accuracy is obtained by using the 17 most important features\n",
    "best_features = imp_features[:17]\n",
    "X_train2 = X_train[best_features]\n",
    "# Quality control of the model by cross-validation with calculation of ROC AUC\n",
    "for clf, label in zip([clf1, clf2, clf3, eclf], \n",
    "                      ['Logistic Regression', 'Random Forest', 'SGD', 'Ensemble']):\n",
    "    scores2 = cross_val_score(estimator=clf, X=X_train2, y=y_train, cv=10, scoring='roc_auc')\n",
    "    print(\"ROC AUC: %0.6f (+/- %0.6f) [%s]\" % (scores2.mean(), scores2.std(), label))"
   ]
  },
  {
   "cell_type": "markdown",
   "metadata": {},
   "source": [
    "### 7. Building a classifier based on test data"
   ]
  },
  {
   "cell_type": "code",
   "execution_count": 24,
   "metadata": {},
   "outputs": [
    {
     "data": {
      "image/png": "[encoded data removed]",
      "text/plain": [
       "<matplotlib.figure.Figure at 0x2626a184ef0>"
      ]
     },
     "metadata": {},
     "output_type": "display_data"
    }
   ],
   "source": [
    "# roc curve on test data\n",
    "colors = ['black', 'orange', 'blue', 'green']\n",
    "linestyles = [':', '--', '-.', '-']\n",
    "for clf, label, clr, ls in zip([clf1, clf2, clf3, eclf], \n",
    "                               ['Logistic Regression', 'Random Forest', 'SGD', 'Ensemble'], \n",
    "                               colors, linestyles):\n",
    "    y_pred = clf.fit(X_train[best_features], y_train).predict_proba(X_test[best_features])[:, 1]\n",
    "    fpr, tpr, thresholds = roc_curve(y_true=y_test, y_score=y_pred)\n",
    "    roc_auc = auc(x=fpr, y=tpr)\n",
    "    plt.plot(fpr, tpr, color=clr, linestyle=ls, label='%s (auc = %0.2f)' % (label, roc_auc))\n",
    "plt.legend(loc='lower right')\n",
    "plt.plot([0, 1], [0, 1], linestyle='--', color='gray', linewidth=2)\n",
    "plt.xlim([-0.1, 1.1])\n",
    "plt.ylim([-0.1, 1.1])\n",
    "plt.grid()\n",
    "plt.xlabel('False Positive Rate')\n",
    "plt.ylabel('True Positive Rate')\n",
    "plt.show()"
   ]
  },
  {
   "cell_type": "markdown",
   "metadata": {},
   "source": [
    "The ROC AUC values obtained for the cross validation and for the test sample are the same, which indicates that the model is not overfitted and not underfitted."
   ]
  },
  {
   "cell_type": "markdown",
   "metadata": {},
   "source": [
    "### 8. Getting the final result"
   ]
  },
  {
   "cell_type": "code",
   "execution_count": 25,
   "metadata": {
    "collapsed": true
   },
   "outputs": [],
   "source": [
    "result_pred = eclf.fit(X_train[best_features], y_train).predict_proba(test[best_features])\n",
    "result = pd.DataFrame(test['USER_ID'])\n",
    "result['ACTIVITY_DEC_16_PROB'] = list(result_pred[:, 1])\n",
    "result.to_csv('result.csv', encoding='utf8', index=None)"
   ]
  },
  {
   "cell_type": "code",
   "execution_count": null,
   "metadata": {
    "collapsed": true
   },
   "outputs": [],
   "source": []
  }
 ],
 "metadata": {
  "anaconda-cloud": {},
  "kernelspec": {
   "display_name": "Python 3",
   "language": "python",
   "name": "python3"
  },
  "language_info": {
   "codemirror_mode": {
    "name": "ipython",
    "version": 3
   },
   "file_extension": ".py",
   "mimetype": "text/x-python",
   "name": "python",
   "nbconvert_exporter": "python",
   "pygments_lexer": "ipython3",
   "version": "3.6.1"
  }
 },
 "nbformat": 4,
 "nbformat_minor": 1
}
